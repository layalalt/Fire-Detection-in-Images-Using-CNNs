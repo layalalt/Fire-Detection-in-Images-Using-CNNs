import tensorflow as tf
from tensorflow.keras import layers, models
from tensorflow.keras.applications import VGG16
from tensorflow.keras.applications.vgg16 import preprocess_input, decode_predictions
from tensorflow.keras.preprocessing.image import load_img, img_to_array, ImageDataGenerator
import numpy as np
import math
from sklearn.model_selection import train_test_split, KFold

# Loading images

images = '/Users/layal/Desktop/CSC 3.1/Machine Learning/Project/FireDataset-V6-JPG-Reshaped224'

# Preprocessing

normalizer = ImageDataGenerator(rescale=1./255)  # Normalizing pixel values
preprocessor = ImageDataGenerator(rescale=1./255, rotation_range=20, width_shift_range=0.1, height_shift_range=0.1) #20 bc fire is upright 0.1 cause why not


# Load images from the directory

data_not_augmented = normalizer.flow_from_directory(images, batch_size=32, class_mode='binary', shuffle=True)      # Choose 'binary' or 'categorical' based on your labels)

data_augmented = preprocessor.flow_from_directory(images, batch_size=32, class_mode='binary', shuffle=True) 

def randomizer(data_no, data_yes):
    while True:
        if np.random.rand() <= 0.2:
            yield next(data_yes)
        else:
            yield next(data_no)

data = randomizer(data_not_augmented, data_augmented)

X = []
y = []

# Collect a fixed number of batches to avoid running out of memory
num_batches = int(math.ceil((data_not_augmented.samples)/32))  # Adjust as needed

for _ in range(num_batches):
    batch_x, batch_y = next(data)
    X.append(batch_x)
    y.append(batch_y)

# Convert to numpy arrays
X = np.concatenate(X)
y = np.concatenate(y)
X_train, X_temp, y_train, y_temp = train_test_split(X, y, test_size=0.3, random_state=42)
X_val, X_test, y_val, y_test = train_test_split(X_temp, y_temp, test_size=0.5, random_state=42)


base_model = VGG16(weights='imagenet', include_top=False, input_shape=(224, 224, 3), pooling='max')
base_model.trainable = False 

model = models.Sequential([base_model, layers.Flatten(), layers.Dense(512, activation='relu'), layers.Dropout(0.5),layers.Dense(1, activation='sigmoid')])

model.compile(optimizer='adam', loss='binary_crossentropy', metrics=['accuracy'])

